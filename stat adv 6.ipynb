{
 "cells": [
  {
   "cell_type": "markdown",
   "id": "17ee8df1-0b1b-44a3-87e0-7e0044df829d",
   "metadata": {},
   "source": [
    "Q1. Explain the assumptions required to use ANOVA and provide examples of violations that could impact\n",
    "the validity of the results.\n",
    "\n",
    "Assumptions in ANNOVA :\n",
    "\n",
    "1. Normality in sampling distribution of mean : \n",
    "\n",
    "               The distribution of sample mean should be normal i.e, follows gaussian distribution.\n",
    "        \n",
    "2. Absence of outliers:\n",
    " \n",
    "            Outlier score need to removed from the data set.\n",
    "            \n",
    "3. Homogintity of variance:\n",
    "\n",
    "            Population variance in different levels of each independent variable are equal.\n",
    "            \n",
    "4. samples are independant and randomly selected.           "
   ]
  },
  {
   "cell_type": "markdown",
   "id": "048c2cf8-ea1c-49c5-9576-932db719d2da",
   "metadata": {},
   "source": [
    "Q2. What are the three types of ANOVA, and in what situations would each be used?\n",
    "\n",
    "There are three types of ANNOVA :\n",
    "\n",
    "One way ANNOVA :  One factor with atleast two levels , these levels are independant.\n",
    "\n",
    "Ex:  Doctor wants to test the medication to decrease the headache . they split the participants \n",
    "\n",
    "into 10mg ,20mg, 30 mg .Doctor ask the participants to rate the headache.\n",
    "\n",
    "Two way ANNOVA : one factor with atleast two factors , these factors are dependant.\n",
    "\n",
    "Ex : a person who goes for running daily and each day the level of calories burning is dependant.\n",
    "\n",
    "Factorial ANNOVA : Two or more factors with atleast 2 levels,these levels can be dependant or independant.\n",
    "\n",
    "Ex: a person who goes for running daily and each day the level of calories burning .Person catageory can be divided\n",
    "\n",
    "into male and female ."
   ]
  },
  {
   "cell_type": "code",
   "execution_count": 10,
   "id": "0f18b43f-e624-4503-b595-a07dea5cd419",
   "metadata": {},
   "outputs": [
    {
     "name": "stdout",
     "output_type": "stream",
     "text": [
      "                             df     sum_sq   mean_sq         F    PR(>F)\n",
      "C(Fertilizer)               1.0   0.033333  0.033333  0.012069  0.913305\n",
      "C(Watering)                 1.0   0.000369  0.000369  0.000133  0.990865\n",
      "C(Fertilizer):C(Watering)   1.0   0.040866  0.040866  0.014796  0.904053\n",
      "Residual                   28.0  77.333333  2.761905       NaN       NaN\n"
     ]
    }
   ],
   "source": [
    "#Q5. In a two-way ANOVA, how would you calculate the main effects and interaction effects using Python?\n",
    "\n",
    "# Importing libraries \n",
    "import statsmodels.api as sm \n",
    "from statsmodels.formula.api import ols \n",
    "\n",
    "# Create a dataframe \n",
    "dataframe = pd.DataFrame({'Fertilizer': np.repeat(['daily', 'weekly'], 15), \n",
    "\t\t\t\t\t\t'Watering': np.repeat(['daily', 'weekly'], 15), \n",
    "\t\t\t\t\t\t'height': [14, 16, 15, 15, 16, 13, 12, 11, \n",
    "\t\t\t\t\t\t\t\t\t14, 15, 16, 16, 17, 18, 14, 13, \n",
    "\t\t\t\t\t\t\t\t\t14, 14, 14, 15, 16, 16, 17, 18, \n",
    "\t\t\t\t\t\t\t\t\t14, 13, 14, 14, 14, 15]}) \n",
    "\n",
    "\n",
    "# Performing two-way ANOVA \n",
    "model = ols('height ~ C(Fertilizer) + C(Watering) +C(Fertilizer):C(Watering)', data=dataframe).fit() \n",
    "result = sm.stats.anova_lm(model, type=2) \n",
    "\n",
    "# Print the result \n",
    "print(result) "
   ]
  },
  {
   "cell_type": "markdown",
   "id": "7915de6e-768e-42bd-a906-b0240eb2e78a",
   "metadata": {},
   "source": [
    "Q8. What are some common post-hoc tests used after ANOVA, and when would you use each one? Provide\n",
    "an example of a situation where a post-hoc test might be necessary.\n",
    "\n",
    "If the p-value from the ANOVA is less than the significance level, we can reject the null hypothesis and conclude that we have sufficient evidence to say that at least one of the means of the groups is different from the others.\n",
    "\n",
    "However, this doesn’t tell us which groups are different from each other. It simply tells us that not all of the group means are equal.\n",
    "\n",
    "In order to find out exactly which groups are different from each other, we must conduct a post hoc test (also known as a multiple comparison test), which will allow us to explore the difference between multiple group means while also controlling for the family-wise error rate."
   ]
  },
  {
   "cell_type": "code",
   "execution_count": null,
   "id": "9c30e3d4-147b-49ca-9ce8-38a096d970b3",
   "metadata": {},
   "outputs": [],
   "source": []
  }
 ],
 "metadata": {
  "kernelspec": {
   "display_name": "Python 3 (ipykernel)",
   "language": "python",
   "name": "python3"
  },
  "language_info": {
   "codemirror_mode": {
    "name": "ipython",
    "version": 3
   },
   "file_extension": ".py",
   "mimetype": "text/x-python",
   "name": "python",
   "nbconvert_exporter": "python",
   "pygments_lexer": "ipython3",
   "version": "3.10.8"
  },
  "toc-showcode": false
 },
 "nbformat": 4,
 "nbformat_minor": 5
}
